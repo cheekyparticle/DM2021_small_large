{
 "cells": [
  {
   "cell_type": "markdown",
   "metadata": {
    "slideshow": {
     "slide_type": "slide"
    }
   },
   "source": [
    "<br>\n",
    "<br>\n",
    "\n",
    "## The Interplay Between Primordial Black Hole Evaporation and Dark Matter Production\n",
    "\n",
    "### Based on [arXiv:2107.00013](https://arxiv.org/abs/2107.00013) & [arXiv:2107.00016](https://arxiv.org/abs/2107.00016)\n",
    "#### Andrew Cheek \n",
    "##### In collaboration with Lucien Heurtier, Yuber F. Perez-Gonzalez, Jessica Turner\n",
    "\n",
    "<br>\n",
    "<br>\n",
    "<br>\n",
    "<br>\n",
    "<br>\n",
    "\n",
    "\n",
    "\n",
    "<img src=\"logos/beh_logo_v3c.png\" style=\"position: absolute; left: 0px; top:-10px; width: 10%\"/>\n",
    "\n",
    "<img src=\"logos/CP3_logo.png\" style=\"position: absolute; left: 400px; bottom:-100px; width: 8%\"/>\n",
    "<img src=\"logos/logo_UCL_portail.jpg\" style=\"position: absolute; left: 600px; bottom:-100px; width: 20%\"/>\n",
    "\n",
    "<img src=\"logos/AstroCent_logo.png\" style=\"position: absolute; right: 150px; bottom:-100px; width: 25%\"/>\n",
    "<img src=\"logos/camk_logo.png\" style=\"position: absolute; right: -10px; bottom:-100px; width: 7%\"/>\n",
    "\n"
   ]
  },
  {
   "cell_type": "markdown",
   "metadata": {
    "slideshow": {
     "slide_type": "slide"
    }
   },
   "source": [
    "## Primordial Black Holes\n",
    "\n",
    "<img src=\"pictures/pbh_production.png\" alt=\"pbh_cartoon\" style=\"float:center; width:60%; margin-left:20%\"/>\n",
    "\n",
    "- May be stable and contribute to $\\Omega_{\\rm DM}$ for $M_{\\rm PBH}\\geq 10^{15}$ g.\n",
    "\n",
    "- May be unstable and evaporate before BBN if $M_{\\rm PBH}\\leq 10^{9}$ g."
   ]
  },
  {
   "cell_type": "markdown",
   "metadata": {
    "slideshow": {
     "slide_type": "subslide"
    }
   },
   "source": [
    "## Dark Matter\n",
    "\n",
    "<div style=\"width:50%; float:left\">\n",
    "<br>\n",
    "    \n",
    "- Nature and production unknown. \n",
    "- BBN and Galactic structure formation has it present very early on.\n",
    "- Particle models for dark matter **often** rely on some non-graviational interaction between Standard Model and dark sectors for producing the correct $\\Omega_{\\rm DM}$\n",
    "- PBHs could be a purely gravitational source for dark matter through Hawking radiation. \n",
    "</div>\n",
    "\n",
    "<div style=\"width:50%; float:right\">\n",
    "    \n",
    "**Freeze-out**     \n",
    "<img src=\"pictures/freeze_out_cartoon_side.png\" alt=\"Something to do with dark matter\" style=\"float:center; width:70%; margin-left:10%\"/>\n",
    "    \n",
    "**PBH evaporation**\n",
    "<img src=\"pictures/event_horizon.png\" alt=\"Something to do with dark matter\" style=\"float:center; width:50%; margin-left:40%; margin-top:-10%\"/>\n",
    "    \n",
    "</div>"
   ]
  },
  {
   "cell_type": "markdown",
   "metadata": {
    "slideshow": {
     "slide_type": "subslide"
    }
   },
   "source": [
    "## Black Hole Radiation\n",
    "\n",
    "- As black holes (BHs) evaporate, they radiate particles irrespective of gauge interactions.\n",
    "\n",
    "- The emission rate of **any** particle is given by \n",
    "\n",
    "- $\\frac{\\textrm{d}^2 \\mathcal{N}_{i}}{\\textrm{d} p\\,\\textrm{d} t}=\\frac{g_i}{2\\pi^2}\\frac{\\sigma_{s_i}(M_{\\rm BH},\\mu_i,p)}{\\exp\\left[E_i(p)/T_{\\rm BH}\\right]-( -1)^{2s_i}}\\frac{p^3}{E_i(p)}$\n",
    "\n",
    "<div style=\"width:50%; float:left\">\n",
    "<br>\n",
    "\n",
    "- Absorption cross-section $\\sigma$ described possible back-scattering due to gravitational and centrifugal potentials. \n",
    "\n",
    "- Oft-used geometrical optics limit $\\sigma_{s_i}(E,\\mu)|_{\\rm GO}=27\\pi G^2M_{\\rm BH}^2$\n",
    "- So use $\\psi_{s_i}(E,\\mu)\\equiv\\frac{\\sigma_{s_i}(E,\\mu)}{27\\pi G^2 M_{\\rm BH}^2}$, to see difference.\n",
    "<br>\n",
    "<br>\n",
    "\n",
    "</div>\n",
    "\n",
    "<div style=\"width:50%; float:right\">\n",
    "<br>\n",
    "    \n",
    "<img src=\"pictures/greybody.png\" alt=\"Different DM profiles\" style=\"float:center; width:80%; margin-left:10%\"/>\n",
    "    \n",
    "</div>"
   ]
  },
  {
   "cell_type": "markdown",
   "metadata": {
    "slideshow": {
     "slide_type": "subslide"
    }
   },
   "source": [
    "## Black Hole Temperature vs. Emitted Particle Mass\n",
    "\n",
    "- When the emitted particle has mass, $m_{i}$, and $m_{i}>T_{BH}$ then the emission is hugely supressed $\\frac{\\textrm{d}^2 \\mathcal{N}_{i}}{\\textrm{d} p\\,\\textrm{d} t}\\rightarrow 0$.\n",
    "\n",
    "- Hawking showed that $ T_{\\rm BH} = \\frac{1}{8\\pi G M_{\\rm BH}}$ and $\\frac{\\textrm{d}M_{\\rm BH}}{\\textrm{d}t} = -\\varepsilon(M_{\\rm BH})\\frac{M_{\\rm p}^4}{M_{\\rm BH}^2}$\n",
    "\n",
    "\n",
    "<div style=\"width:50%; float:left\">\n",
    "<br>\n",
    "\n",
    "<img src=\"pictures/MBH_t.png\" alt=\"Different DM profiles\" style=\"float:center; width:60%; margin-left:20%\"/>\n",
    "<br>\n",
    "<br>\n",
    "\n",
    "</div>\n",
    "\n",
    "<div style=\"width:50%; float:right\">\n",
    "<br>\n",
    "    \n",
    "<img src=\"pictures/TBH_t.png\" alt=\"Different DM profiles\" style=\"float:center; width:60%; margin-left:10%\"/>\n",
    "    \n",
    "</div>"
   ]
  },
  {
   "cell_type": "markdown",
   "metadata": {
    "slideshow": {
     "slide_type": "subslide"
    }
   },
   "source": [
    "## Any particles with $m_{\\rm DM}<M_{\\rm p}$ will be emitted\n",
    "\n",
    "<br>\n",
    "<br>\n",
    "\n",
    "- Two seperate regimes of particle production for stable particles, like dark matter (DM).\n",
    "\n",
    "\n",
    "<div style=\"width:50%; float:left\">\n",
    "<br>\n",
    "\n",
    "$$N_{\\rm DM}\\approx\\frac{120\\zeta(3)}{\\pi^3}\\frac{g_i}{g_\\star(T_{\\textrm{BH}})}\\frac{M_{\\textrm{BH}}^2}{M_{\\textrm{p}}^2}\\,.$$\n",
    "<img src=\"pictures/TBH_t_lightmdm.png\" alt=\"Different DM profiles\" style=\"float:center; width:60%; margin-left:20%\"/>\n",
    "<br>\n",
    "<br>\n",
    "\n",
    "</div>\n",
    "\n",
    "<div style=\"width:50%; float:right\">\n",
    "<br>\n",
    "    \n",
    "$$N_{\\rm DM}\\approx\\frac{15\\zeta(3)}{8\\pi^5}\\frac{g_i}{g_\\star(T_{\\textrm{BH}})}\\frac{m_{\\textrm{p}}^2}{m_{\\rm DM}^2}\\,$$\n",
    "<img src=\"pictures/TBH_t_heavymdm.png\" alt=\"Different DM profiles\" style=\"float:center; width:60%; margin-left:20%\"/>\n",
    "    \n",
    "</div>"
   ]
  },
  {
   "cell_type": "markdown",
   "metadata": {
    "slideshow": {
     "slide_type": "slide"
    }
   },
   "source": [
    "## Evaporation in the early Universe\n",
    "\n",
    "- The number density of dark matter particles takes a form familiar from other production mechanisms\n",
    "$$\\dot{n}_{\\rm DM} + 3H n_{\\rm DM} =  n_{\\rm BH}\\, \\Gamma_{{\\rm BH} \\to {\\rm DM}}(M_{\\rm BH},a_{\\star})$$\n",
    "- The number of PBHs can be sufficient to dominate the Universe for some period. So we need to track the coupled system of Boltzmann equations. \n",
    "\n",
    "<div style=\"width:35%; float:left\">\n",
    "<br>\n",
    "    \n",
    "- $\\dot{\\rho}_{\\rm SM} + 4H \\rho_{\\rm SM} = -\\frac{1}{M_{\\rm BH}}\\left.\\frac{\\textrm{d} M_{\\rm BH}}{\\textrm{d} t}\\right|_{\\rm SM}\\rho_{\\rm PBH}$\n",
    "- $\\dot{\\rho}_{\\rm PBH} + 3H \\rho_{\\rm PBH} = \\frac{1}{M_{\\rm BH}}\\frac{\\textrm{d} M_{\\rm BH}}{\\textrm{d} t}\\rho_{\\rm PBH}$\n",
    "</div>\n",
    "\n",
    "<div style=\"width:60%; float:right\">\n",
    "<br>   \n",
    "<img src=\"pictures/expansion_universe.png\" alt=\"Different DM profiles\" style=\"float:center; width:100%; margin-left:5%\"/>\n",
    "</div>\n",
    "\n",
    "\n",
    "\n"
   ]
  },
  {
   "cell_type": "markdown",
   "metadata": {
    "slideshow": {
     "slide_type": "subslide"
    }
   },
   "source": [
    "## A public tool for calculating these systems [<img src=\"pictures/github.png\" alt=\"https://github.com/earlyuniverse/ulysses\" style=\"width:4%; margin-left:68%; margin-top:-4%; float:center\">](https://github.com/earlyuniverse/ulysses)\n",
    "\n",
    "- Available through the [Ulysses](https://github.com/earlyuniverse/ulysses) we have provided a code that tracks the evolution of PBHs and their production of particles in the early Universe.\n",
    "\n",
    "**Motivation 1:** \n",
    " The full generality of DM production solely from PBHs hadn't been explored with as much precision. This is the focus of [arXiv:2107.00013](https://arxiv.org/abs/2107.00013).\n",
    "- For example, the evaporation is usually assumed to be instantaneous. \n",
    "- BH spin has been considered, but this puts pressure on the instantaneous evaporation.\n",
    "- When determining the consequenses of the thermal plasma, it's useful to be able to track the evolution. \n",
    "\n",
    "<div style=\"width:50%; float:left\">\n",
    "  \n",
    "<img src=\"pictures/plot_MDM_-1.0_a_0.0.png\" alt=\"Different DM profiles\" style=\"float:center; width:60%; margin-left:35%; margin-top:-5%\"/>\n",
    "\n",
    "</div>\n",
    "<div style=\"width:50%; float:right\">\n",
    "\n",
    "<img src=\"pictures/plot_MDM_-1.0_a_0.999.png\" alt=\"Different DM profiles\" style=\"float:center; width:60%; margin-left:20%; margin-top:-5%\"/>\n",
    "</div>"
   ]
  },
  {
   "cell_type": "markdown",
   "metadata": {
    "slideshow": {
     "slide_type": "subslide"
    }
   },
   "source": [
    "## A public tool for calculating these systems [<img src=\"pictures/github.png\" alt=\"https://github.com/earlyuniverse/ulysses\" style=\"width:4%; margin-left:68%; margin-top:-4%; float:center\">](https://github.com/earlyuniverse/ulysses)\n",
    "\n",
    "- Available through the [Ulysses](https://github.com/earlyuniverse/ulysses) we have provided a code that tracks the evolution of PBHs and their production of particles in the early Universe.\n",
    "\n",
    "**Motivation 1:** \n",
    " The full generality of DM production solely from PBHs hadn't been explored with as much precision. This is the focus of [arXiv:2107.00013](https://arxiv.org/abs/2107.00013).\n",
    "<div style=\"width:50%; float:left\">    \n",
    "\n",
    "- With all things equal, these small differences can be significant when accumulated.\n",
    "- Here we compare the analytic result that gives the correct $\\Omega_{\\rm DM}$ for different $m_{\\rm DM}$ in the $\\beta$ (fraction of PBHs) - $M_{\\rm PBH}$ plane.\n",
    "- Difference comes from $T_{\\rm evap.}^{\\rm Univ.}$ evaluation, as well as deviations of Hawking radiation from blackbody. \n",
    "</div>\n",
    "<div style=\"width:50%; float:right\">\n",
    "  \n",
    "<img src=\"pictures/gondolo_comparison.png\" alt=\"pbh_cartoon\" style=\"float:center; width:80%; margin-left:10%; margin-top:-5%\"/>\n",
    "\n",
    "</div>\n"
   ]
  },
  {
   "cell_type": "markdown",
   "metadata": {
    "slideshow": {
     "slide_type": "subslide"
    }
   },
   "source": [
    "## A public tool for calculating these systems \n",
    "\n",
    "- Available through the Ulysses we have provided a code that tracks the evolution of PBHs and their production of particles in the early Universe.\n",
    "\n",
    "**Motivation 2:** We could more accurately explore the interplay between interacting dark matter models and PBHs. This is the focus of [arXiv:2107.00016](https://arxiv.org/abs/2107.00016).\n",
    "<div style=\"width:50%; float:left\">\n",
    "<br>\n",
    "    \n",
    "- It is important to understand what kind of scenerios are inconsistent.\n",
    "- Could a future detection of dark matter constrain the PBH fraction for $M_{\\rm PBH}\\leq 10^{9}$ g?\n",
    "</div>\n",
    "\n",
    "<div style=\"width:50%; float:right\">\n",
    "<br>   \n",
    "<img src=\"pictures/detection_cartoon.png\" alt=\"pbh_cartoon\" style=\"float:center ; width:70%; margin-left: 20% \"/>\n",
    "\n",
    "</div>"
   ]
  },
  {
   "cell_type": "markdown",
   "metadata": {
    "slideshow": {
     "slide_type": "slide"
    }
   },
   "source": [
    "## Highlights from [\"Solely Hawking Radiation:\"](https://arxiv.org/abs/2107.00013)\n",
    "\n",
    "**A significant enhancement seen for spin-2 massive particles with ($a_{\\star}\\approx 0.99$)**\n",
    "\n",
    "<div style=\"width:50%; float:left\">\n",
    "\n",
    "- Spin-2 particles are less efficiently produced from Schwarzchild BHs.\n",
    "\n",
    "<img src=\"pictures/schwarz_comparison.png\" alt=\"Different DM profiles\" style=\"float:center; width:80%; margin-left:20%\"/> \n",
    "\n",
    "</div>\n",
    "\n",
    "<div style=\"width:50%; float:right\">\n",
    "\n",
    "- The situation is drastically changed for Kerr BHs $ \\frac{\\textrm{d}^2 \\mathcal{N}_{ilm}}{\\textrm{d} p\\textrm{d} t}=\\frac{\\sigma_{s_i}^{lm}(M_{\\rm BH},p,a_\\star)}{\\exp\\left[(E_i - m\\Omega)/T_{\\rm BH}\\right]-( -1)^{2s_i}}\\frac{p^3}{E_i}$\n",
    "<img src=\"pictures/kerr_comparison.png\" alt=\"Different DM profiles\" style=\"float:center; width:92%; margin-left:0%; margin-top:13%\"/>\n",
    "    \n",
    "</div>"
   ]
  },
  {
   "cell_type": "markdown",
   "metadata": {
    "slideshow": {
     "slide_type": "subslide"
    }
   },
   "source": [
    "  ## Highlights from [\"Solely Hawking Radiation:\"](https://arxiv.org/abs/2107.00013)\n",
    "**We evaluate certain for the DM production from extended dark sectors**\n",
    "- DM can be part of an extended dark sector. \n",
    "- We considered this simply with one extra particle, $X\\rightarrow 2 \\textrm{DM}$.\n",
    "\n",
    "<div style=\"width:50%; float:left\">\n",
    "<br>\n",
    "\n",
    "<img src=\"pictures/MX_P.png\" alt=\"Different DM profiles\" style=\"float:center; width:70%; margin-left:20%\"/>\n",
    "<br>\n",
    "<br>\n",
    "\n",
    "</div>\n",
    "\n",
    "<div style=\"width:50%; float:right\">\n",
    "<br>\n",
    "    \n",
    "<img src=\"pictures/KerrPBH_MX_V.png\" alt=\"Different DM profiles\" style=\"float:center; width:70%; margin-left:10%\"/>\n",
    "    \n",
    "</div>\n",
    "\n"
   ]
  },
  {
   "cell_type": "markdown",
   "metadata": {
    "slideshow": {
     "slide_type": "slide"
    }
   },
   "source": [
    "## Highlights from [\"Interplay with Freeze-in/Out:\"](https://arxiv.org/abs/2107.00016)\n",
    "**Fully track the number densities of DM and the mediator**\n",
    "<div style=\"width:50%; float:left\">\n",
    "<br>\n",
    "\n",
    "- We use our work in paper I as the foundation to explore Freeze-in and Freeze-out with PBHs, solving the full Boltzmann equations.\n",
    "<img src=\"pictures/diagrams.png\" alt=\"Different DM profiles\" style=\"float:center; width:70%; margin-left:10%\"/>\n",
    "    \n",
    "<br>\n",
    "<br>\n",
    "\n",
    "</div>\n",
    "\n",
    "<div style=\"width:50%; float:right\">\n",
    "<br>\n",
    "    \n",
    "<img src=\"pictures/FI_BE_19Jul-crop.png\" alt=\"Different DM profiles\" style=\"float:center; width:70%; margin-left:10%\"/>\n",
    "    \n",
    "</div>\n",
    "\n"
   ]
  },
  {
   "cell_type": "markdown",
   "metadata": {
    "slideshow": {
     "slide_type": "subslide"
    }
   },
   "source": [
    "## Highlights from [\"Interplay with Freeze-in/Out:\"](https://arxiv.org/abs/2107.00016)\n",
    "**Systematically look for regions where there's an interplay with processes**\n",
    "\n",
    "<div style=\"width:50%; float:left\">\n",
    "<br>\n",
    "\n",
    "<img src=\"pictures/cartoon_interplay.png\" alt=\"pbh_cartoon\" style=\"float:center; width:100%; margin-left:0%\"/>\n",
    "</div>\n",
    "    \n",
    "<div style=\"width:50%; float:right\">\n",
    "<br>\n",
    "\n",
    "- **FO/FI during I**: the dynamics of the mechanism are not affected by PBH evaporation. So you get a relic density which could be diluted, if $\\beta>\\beta_{c}$.\n",
    "- **FO/FI during II and III**: the production mechanism takes place during early matter domination.\n",
    "- **FO/FI during IV**: dark matter from PBH and FI/FO sum, there is the posibility of evaporated particles thermalising with the SM bath. \n",
    "    \n",
    "</div>"
   ]
  },
  {
   "cell_type": "markdown",
   "metadata": {
    "slideshow": {
     "slide_type": "subslide"
    }
   },
   "source": [
    "## Highlights from [\"Interplay with Freeze-in/Out:\"](https://arxiv.org/abs/2107.00016)\n",
    "**Systematically look for regions where there's an interplay with processes**\n",
    "\n",
    "<div style=\"width:50%; float:left\">\n",
    "<br>\n",
    "\n",
    "- There are still large regions of paramter space where the momentum averaged treatment is valid.\n",
    "- On the right I show an example where $m_{\\rm DM}=1$ MeV and $m_{X}=1$ TeV.\n",
    "</div>\n",
    "\n",
    "<div style=\"width:50%; float:right\">\n",
    "<img src=\"pictures/Xsections_scan_1_Br09999999_b_new.png\" alt=\"pbh_cartoon\" style=\"float:center; width:100%; margin-left:0%\"/>\n",
    "</div>"
   ]
  },
  {
   "cell_type": "markdown",
   "metadata": {
    "slideshow": {
     "slide_type": "subslide"
    }
   },
   "source": [
    "## Highlights from [\"Interplay with Freeze-in:\"](https://arxiv.org/abs/2107.00016)\n",
    "**Variations in mediator mass**\n",
    "\n",
    "\n",
    "<div style=\"width:50%; float:left\">\n",
    "<br>\n",
    "    \n",
    "- The value of $m_{X}$ determines when freeze-in happens, if PBHs evaporate after this dilution occurs.\n",
    "- On the right we show a freeze-in example $m_{\\rm DM}=1$ MeV, $m_{X}=1$ TeV, $a^{*}=0$ and $\\sigma v = 10^{-41}\\,\\text{GeV}^{-2}$.\n",
    "- The dashed lines indicate where thermalization takes place and our treatment is no longer valid.\n",
    "</div>\n",
    "\n",
    "<div style=\"width:50%; float:right\">\n",
    "<img src=\"pictures/MX-crop.png\" alt=\"pbh_cartoon\" style=\"float:center; width:100%; margin-left:0%\"/>\n",
    "</div>\n"
   ]
  },
  {
   "cell_type": "markdown",
   "metadata": {
    "slideshow": {
     "slide_type": "subslide"
    }
   },
   "source": [
    "## Highlights from [\"Interplay with Freeze-in:\"](https://arxiv.org/abs/2107.00016)\n",
    "**Variations in BH spin**\n",
    "\n",
    "\n",
    "<div style=\"width:50%; float:left\">\n",
    "  \n",
    "- BH temperature is modified by spin\n",
    "$$ T_{\\rm BH} = \\frac{1}{4\\pi G M_{\\rm BH}}\\frac{\\sqrt{1-a_\\star^2}}{1+\\sqrt{1-a_\\star^2}}\\$$\n",
    "- When $T_{\\rm BH}\\sim m_{X}$ the thermal plasma is being reheated to temperatures where the freeze-in process is most efficient.\n",
    "\n",
    "**This is all to say, there can be a substantially complicated interplay between interacting dark sectors and evaporating PBHs.**\n",
    "</div>\n",
    "<div style=\"width:50%; float:right\">\n",
    "<img src=\"pictures/animate_FI_BHspin.gif\" alt=\"pbh_cartoon\" style=\"float:center; width:100%; margin-left:0%\"/>\n",
    "</div>\n"
   ]
  },
  {
   "cell_type": "markdown",
   "metadata": {
    "slideshow": {
     "slide_type": "slide"
    }
   },
   "source": [
    "## Bright horizon around the dark and mysterious\n",
    "\n",
    "<div style=\"width:50%; float:left\">\n",
    "<br>\n",
    "    \n",
    "- The nature and origin of dark matter has so far eluded us. Its possible that PBHs play an important role on their origin. \n",
    "- In order to get a better understanding of how PBH production and interacting dark sectors will act dynamically we developed a tool to solve the coupled Boltzmanns equations. \n",
    "- There are regions of parameter space where evaporated dark matter re-thermalizes, this requires a more careful treatment. \n",
    "</div>\n",
    "<br>\n",
    "<div style=\"width:50%; float:right\">\n",
    "<img src=\"pictures/EHT.png\" alt=\"pbh_cartoon\" style=\"float:center; width:100%; margin-left:10%\"/>\n",
    "</div>\n"
   ]
  },
  {
   "cell_type": "markdown",
   "metadata": {
    "slideshow": {
     "slide_type": "slide"
    }
   },
   "source": [
    "## BACKUP: Highlights from [\"Interplay with Freeze-in/Out:\"](https://arxiv.org/abs/2107.00016)\n",
    "**We solve the momentum averaged Boltzmann equations**\n",
    "\n",
    "\n",
    "<div style=\"width:50%; float:left\">\n",
    "<br>\n",
    "    \n",
    "- This assumes that the annihilation products are in equilibrium with the SM roughly. \n",
    "- Things are much more complicated if some particles are not in equilibrium and have a non-trivial phase space.\n",
    "- There are interesting situations where this is not valid. \n",
    "- Motivating the calculation of the full phase space.\n",
    "</div>\n",
    "\n",
    "<div style=\"width:50%; float:right\">\n",
    "<img src=\"pictures/Xsections_scan_FO_Br05_2_new.png\" alt=\"pbh_cartoon\" style=\"float:center; width:100%; margin-left:5%\"/>\n",
    "</div>"
   ]
  }
 ],
 "metadata": {
  "celltoolbar": "Slideshow",
  "kernelspec": {
   "display_name": "Python 3",
   "language": "python",
   "name": "python3"
  },
  "language_info": {
   "codemirror_mode": {
    "name": "ipython",
    "version": 3
   },
   "file_extension": ".py",
   "mimetype": "text/x-python",
   "name": "python",
   "nbconvert_exporter": "python",
   "pygments_lexer": "ipython3",
   "version": "3.8.3"
  },
  "rise": {
   "autolaunch": true,
   "cp3image": "logos/CP3_logo.png",
   "enable_chalkboard": true,
   "overlay": "<div class='myname'><h3>Andrew Cheek</h3></div><div class='conferencename'><h3>Dark Matter 2021: smallest to largest scales</h3></div>",
   "theme": "serif",
   "transition": "swipe"
  }
 },
 "nbformat": 4,
 "nbformat_minor": 2
}
