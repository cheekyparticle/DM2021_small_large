{
 "cells": [
  {
   "cell_type": "code",
   "execution_count": 1,
   "metadata": {},
   "outputs": [],
   "source": [
    "import pandas as pd\n",
    "\n",
    "\n",
    "import numpy as np\n",
    "import matplotlib.pyplot as plt\n",
    "from matplotlib import rc, rcParams\n",
    "\n",
    "rc('font', **{'family':'sans-serif','sans-serif':['Computer Modern']})\n",
    "rc('text', usetex=True)"
   ]
  },
  {
   "cell_type": "code",
   "execution_count": 2,
   "metadata": {},
   "outputs": [],
   "source": [
    "data2    = pd.read_csv('spin2_new_BH.txt',sep='\\s+',header=None)\n",
    "data3    = pd.read_csv('spin3_new_BH.txt',sep='\\s+',header=None)\n",
    "data4    = pd.read_csv('spin4_new_BH.txt',sep='\\s+',header=None)\n",
    "\n",
    "data14    = pd.read_csv('spin14_new_BH.txt',sep='\\s+',header=None)\n",
    "data15    = pd.read_csv('spin15_new_BH.txt',sep='\\s+',header=None)\n",
    "data16    = pd.read_csv('spin16_new_BH.txt',sep='\\s+',header=None)\n",
    "data17    = pd.read_csv('spin17_new_BH.txt',sep='\\s+',header=None)\n",
    "data18    = pd.read_csv('spin18_new_BH.txt',sep='\\s+',header=None)\n",
    "data19    = pd.read_csv('spin19_new_BH.txt',sep='\\s+',header=None)\n",
    "\n",
    "data20    = pd.read_csv('spin20_new_BH.txt',sep='\\s+',header=None)\n",
    "data21    = pd.read_csv('spin21_new_BH.txt',sep='\\s+',header=None)\n",
    "data22    = pd.read_csv('spin22_new_BH.txt',sep='\\s+',header=None)\n",
    "data23    = pd.read_csv('spin23_new_BH.txt',sep='\\s+',header=None)\n",
    "\n"
   ]
  },
  {
   "cell_type": "code",
   "execution_count": 18,
   "metadata": {},
   "outputs": [],
   "source": [
    "dataset = [data2, data14, data15, data16, data17, data18, data19, data3, data20, data21, data22, data23, data4]\n",
    "labelset = [r\"$\\log_{10}(M_{\\rm BH}^{\\rm in}/[\\rm{g}])    = 6.0$\", r\"$\\log_{10}(M_{\\rm BH}^{\\rm in}/[\\rm{g}])    = 6.1$\", \n",
    "           r\"$\\log_{10}(M_{\\rm BH}^{\\rm in}/[\\rm{g}])    = 6.5$\", r\"$\\log_{10}(M_{\\rm BH}^{\\rm in}/[\\rm{g}])    = 6.6$\",\n",
    "           r\"$\\log_{10}(M_{\\rm BH}^{\\rm in}/[\\rm{g}])    = 6.7$\", r\"$\\log_{10}(M_{\\rm BH}^{\\rm in}/[\\rm{g}])    = 6.8$\",\n",
    "           r\"$\\log_{10}(M_{\\rm BH}^{\\rm in}/[\\rm{g}])    = 6.9$\", r\"$\\log_{10}(M_{\\rm BH}^{\\rm in}/[\\rm{g}])    = 7.0$\", \n",
    "           r\"$\\log_{10}(M_{\\rm BH}^{\\rm in}/[\\rm{g}])    = 7.2$\", r\"$\\log_{10}(M_{\\rm BH}^{\\rm in}/[\\rm{g}])    = 7.4$\", \n",
    "           r\"$\\log_{10}(M_{\\rm BH}^{\\rm in}/[\\rm{g}])    = 7.6$\", r\"$\\log_{10}(M_{\\rm BH}^{\\rm in}/[\\rm{g}])    = 7.8$\",\n",
    "           r\"$\\log_{10}(M_{\\rm BH}^{\\rm in}/[\\rm{g}])    = 8.0$\"]\n",
    "\n",
    "colorset = ['#9e0142','#d53e4f', '#f46d43','#fdae61', '#fee08b', '#e6f598','#abdda4','#66c2a5','#3288bd', \n",
    "            '#5e4fa2', '#762a83', '#c2a5cf', '#f1b6da']"
   ]
  },
  {
   "cell_type": "code",
   "execution_count": 4,
   "metadata": {},
   "outputs": [],
   "source": [
    "from celluloid import Camera\n"
   ]
  },
  {
   "cell_type": "code",
   "execution_count": 5,
   "metadata": {},
   "outputs": [
    {
     "name": "stdout",
     "output_type": "stream",
     "text": [
      "0.0 0.0\n",
      "0.02020408163265306 0.02020408163265306\n",
      "0.04040816326530612 0.04040816326530612\n",
      "0.06061224489795918 0.06061224489795918\n",
      "0.08081632653061224 0.08081632653061224\n",
      "0.10102040816326528 0.10102040816326528\n",
      "0.12122448979591836 0.12122448979591836\n",
      "0.14142857142857143 0.14142857142857143\n",
      "0.16163265306122448 0.16163265306122448\n",
      "0.18183673469387757 0.18183673469387757\n",
      "0.20204081632653056 0.20204081632653056\n",
      "0.22224489795918367 0.22224489795918367\n",
      "0.24244897959183673 0.24244897959183673\n"
     ]
    }
   ],
   "source": [
    "for i in range(len(dataset)):\n",
    "    print(data2[0][i], dataset[0][0][i])"
   ]
  },
  {
   "cell_type": "code",
   "execution_count": null,
   "metadata": {},
   "outputs": [],
   "source": []
  },
  {
   "cell_type": "code",
   "execution_count": 17,
   "metadata": {},
   "outputs": [
    {
     "data": {
      "image/png": "[encoded data removed]",
      "text/plain": [
       "<Figure size 432x288 with 1 Axes>"
      ]
     },
     "metadata": {},
     "output_type": "display_data"
    }
   ],
   "source": [
    "fig, ax1 = plt.subplots()\n",
    "camera = Camera(fig)\n",
    "\n",
    "\n",
    "ax1.set_yscale('log')\n",
    "ax1.set_xlabel(r\"${a}^*$\", fontsize=20)\n",
    "ax1.set_ylabel(r\"$\\Omega \\mathrm{h}^2(a^*)/\\Omega \\mathrm{h}^2(a^*=0)$\", fontsize=20)\n",
    "plt.xlim(0.0, 0.99)\n",
    "plt.ylim(0.8, 20.0)\n",
    "\n",
    "\n",
    "plt.tight_layout()\n",
    "fig.patch.set_edgecolor(\"white\")\n",
    "fig.patch.set_facecolor(\"white\")\n",
    "#ax1.set_title('Dimension 5', fontsize=16)\n",
    "plt.tight_layout()\n",
    "\n",
    "\n",
    "#plt.tight_layout()\n",
    "#cycle = plt.rcParams['axes.prop_cycle'].by_key()['color']\n",
    "\n",
    "for i in range(len(dataset)):\n",
    "    \n",
    "    ax1.plot(dataset[i][0], dataset[i][1]/dataset[i][1][0],'#f1b6da', \n",
    "             color = colorset[i], lw = 2 , label=labelset[i])\n",
    "\n",
    "    #plt.ylim(0.95, 5.0)\n",
    "    #ax1.legend(loc='upper right',ncol=2)\n",
    "    ax1.text(0.5,1e1,labelset[i], fontsize=16)\n",
    "    \n",
    "    if i > 0 : \n",
    "        for j in range(i):\n",
    "            ax1.plot(dataset[j][0], dataset[j][1]/dataset[j][1][0],'#f1b6da', \n",
    "            color = colorset[j], lw = 2 , label=labelset[j], alpha=0.2)\n",
    "\n",
    "    ax1.text(0.1,1.5e1,r\"$\\beta^{\\prime}=10^{-10}$\", fontsize=16)\n",
    "    ax1.text(0.1,1.2e1,r\"$m_{\\rm DM}=10^{-3}\\,\\textrm{GeV}$\", fontsize=16)\n",
    "    camera.snap()\n",
    "\n",
    "animation = camera.animate()\n",
    "animation.save('animate_FI_BHspin.gif', writer = 'imagemagick',dpi=120)"
   ]
  },
  {
   "cell_type": "code",
   "execution_count": 7,
   "metadata": {},
   "outputs": [
    {
     "name": "stdout",
     "output_type": "stream",
     "text": [
      "0\n"
     ]
    }
   ],
   "source": [
    "for i in range(1):\n",
    "    print(i)"
   ]
  },
  {
   "cell_type": "code",
   "execution_count": 8,
   "metadata": {},
   "outputs": [
    {
     "data": {
      "text/plain": [
       "13"
      ]
     },
     "execution_count": 8,
     "metadata": {},
     "output_type": "execute_result"
    }
   ],
   "source": [
    "len(dataset)"
   ]
  },
  {
   "cell_type": "code",
   "execution_count": 9,
   "metadata": {},
   "outputs": [
    {
     "ename": "NameError",
     "evalue": "name 'MG_signal' is not defined",
     "output_type": "error",
     "traceback": [
      "\u001b[0;31m---------------------------------------------------------------------------\u001b[0m",
      "\u001b[0;31mNameError\u001b[0m                                 Traceback (most recent call last)",
      "\u001b[0;32m<ipython-input-9-12de62202a87>\u001b[0m in \u001b[0;36m<module>\u001b[0;34m\u001b[0m\n\u001b[1;32m     13\u001b[0m \u001b[0mplt\u001b[0m\u001b[0;34m.\u001b[0m\u001b[0mtight_layout\u001b[0m\u001b[0;34m(\u001b[0m\u001b[0;34m)\u001b[0m\u001b[0;34m\u001b[0m\u001b[0;34m\u001b[0m\u001b[0m\n\u001b[1;32m     14\u001b[0m \u001b[0;34m\u001b[0m\u001b[0m\n\u001b[0;32m---> 15\u001b[0;31m \u001b[0;32mfor\u001b[0m \u001b[0mi\u001b[0m \u001b[0;32min\u001b[0m \u001b[0mrange\u001b[0m\u001b[0;34m(\u001b[0m\u001b[0mlen\u001b[0m\u001b[0;34m(\u001b[0m\u001b[0mMG_signal\u001b[0m\u001b[0;34m[\u001b[0m\u001b[0;34m:\u001b[0m\u001b[0;34m]\u001b[0m\u001b[0;34m)\u001b[0m\u001b[0;34m)\u001b[0m\u001b[0;34m:\u001b[0m\u001b[0;34m\u001b[0m\u001b[0;34m\u001b[0m\u001b[0m\n\u001b[0m\u001b[1;32m     16\u001b[0m     \u001b[0mdata_used_here\u001b[0m \u001b[0;34m=\u001b[0m \u001b[0mMG_signal\u001b[0m\u001b[0;34m[\u001b[0m\u001b[0mi\u001b[0m\u001b[0;34m]\u001b[0m\u001b[0;34m\u001b[0m\u001b[0;34m\u001b[0m\u001b[0m\n\u001b[1;32m     17\u001b[0m     \u001b[0mlambda_here\u001b[0m \u001b[0;34m=\u001b[0m \u001b[0maf\u001b[0m\u001b[0;34m.\u001b[0m\u001b[0mCL_95_cov\u001b[0m\u001b[0;34m(\u001b[0m\u001b[0mdata\u001b[0m\u001b[0;34m,\u001b[0m \u001b[0mdata_used_here\u001b[0m\u001b[0;34m,\u001b[0m \u001b[0mbackground\u001b[0m\u001b[0;34m,\u001b[0m \u001b[0merror\u001b[0m\u001b[0;34m,\u001b[0m \u001b[0mCorrM\u001b[0m\u001b[0;34m)\u001b[0m\u001b[0;34m\u001b[0m\u001b[0;34m\u001b[0m\u001b[0m\n",
      "\u001b[0;31mNameError\u001b[0m: name 'MG_signal' is not defined"
     ]
    },
    {
     "data": {
      "image/png": "[encoded data removed]",
      "text/plain": [
       "<Figure size 432x288 with 1 Axes>"
      ]
     },
     "metadata": {
      "needs_background": "light"
     },
     "output_type": "display_data"
    }
   ],
   "source": [
    "fig, ax1 = plt.subplots()\n",
    "camera = Camera(fig)\n",
    "\n",
    "ax1.set_yscale(\"log\")\n",
    "ax1.set_xlabel(r'$p_T^{miss}$', size=20)\n",
    "ax1.set_ylabel(r'Events/GeV', size=20)\n",
    "plt.xlim(xmin=250, xmax=1400)\n",
    "plt.ylim(ymin=1e-2, ymax=8e3)\n",
    "plt.tight_layout()\n",
    "fig.patch.set_edgecolor(\"None\")\n",
    "fig.patch.set_facecolor(\"None\")\n",
    "ax1.set_title('Dimension 5', fontsize=16)\n",
    "plt.tight_layout()\n",
    "\n",
    "for i in range(len(MG_signal[:])):\n",
    "    data_used_here = MG_signal[i]\n",
    "    lambda_here = af.CL_95_cov(data, data_used_here, background, error, CorrM)\n",
    "    signal_here = background + (1/lambda_here)**4*data_used_here['MET_counts']\n",
    "    just_signal = signal_here - background\n",
    "    \n",
    "\n",
    "    ax1.bar(bin_edges[:-1], background/bin_width, width=bin_width, align='edge',\n",
    "           alpha=0.5, color='orange',\n",
    "           label=r'Background')\n",
    "\n",
    "    ax1.bar(bin_edges[:-1], (signal_here-background)/bin_width, bottom=background/bin_width, width=bin_width, align='edge',\n",
    "           alpha=0.5, fc='red', ec='none',\n",
    "           label=r'Signal $\\Lambda/C = $ Limit')\n",
    "\n",
    "    ax1.bar(bin_edges[:-1], just_signal/bin_width, width=bin_width, align='edge',\n",
    "           alpha=0.5, fc='red', ec='none')\n",
    "\n",
    "    ax1.scatter(bin_center, data/bin_width, s=2, color='black', label=r'Data')\n",
    "    ax1.text(1200,1e2,r'${0:.0f}$ GeV'.format(masses_Bmag[i]))\n",
    "    if i == 0:\n",
    "        ax1.legend(loc=\"upper right\")\n",
    "    camera.snap()\n",
    "\n",
    "\n",
    "\n",
    "\n",
    "animation = camera.animate()\n",
    "animation.save('hist_mag.gif', writer = 'imagemagick',dpi=100)"
   ]
  }
 ],
 "metadata": {
  "kernelspec": {
   "display_name": "Python 3",
   "language": "python",
   "name": "python3"
  },
  "language_info": {
   "codemirror_mode": {
    "name": "ipython",
    "version": 3
   },
   "file_extension": ".py",
   "mimetype": "text/x-python",
   "name": "python",
   "nbconvert_exporter": "python",
   "pygments_lexer": "ipython3",
   "version": "3.8.3"
  }
 },
 "nbformat": 4,
 "nbformat_minor": 4
}
